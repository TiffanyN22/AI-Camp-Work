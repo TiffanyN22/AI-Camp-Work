{
  "cells": [
    {
      "cell_type": "code",
      "execution_count": null,
      "metadata": {
        "colab": {
          "base_uri": "https://localhost:8080/"
        },
        "id": "7Br4nf4MwFt5",
        "outputId": "74d85f6c-0657-4b6c-93a4-b09c581ab03b"
      },
      "outputs": [
        {
          "name": "stdout",
          "output_type": "stream",
          "text": [
            "/content\n"
          ]
        }
      ],
      "source": [
        "!pwd"
      ]
    },
    {
      "cell_type": "code",
      "execution_count": null,
      "metadata": {
        "id": "dTfqHrmcwav3"
      },
      "outputs": [],
      "source": []
    },
    {
      "cell_type": "code",
      "execution_count": null,
      "metadata": {
        "colab": {
          "base_uri": "https://localhost:8080/"
        },
        "id": "AXFlRxovwQNm",
        "outputId": "f0c092aa-4f41-42c8-a6c2-38a975ac3e62"
      },
      "outputs": [
        {
          "name": "stdout",
          "output_type": "stream",
          "text": [
            "Mounted at /content/gdrive/\n"
          ]
        }
      ],
      "source": [
        "from google.colab import drive\n",
        "drive.mount('/content/gdrive/')"
      ]
    },
    {
      "cell_type": "code",
      "execution_count": null,
      "metadata": {
        "colab": {
          "base_uri": "https://localhost:8080/"
        },
        "id": "5ythTIbcwjPO",
        "outputId": "0c2db24d-73fe-4e7c-d4a5-9b3a3ad5674a"
      },
      "outputs": [
        {
          "name": "stdout",
          "output_type": "stream",
          "text": [
            "/content/gdrive/MyDrive/AirCanvasProject/yolov5\n"
          ]
        }
      ],
      "source": [
        "cd yolov5"
      ]
    },
    {
      "cell_type": "code",
      "execution_count": null,
      "metadata": {
        "colab": {
          "base_uri": "https://localhost:8080/"
        },
        "id": "uUMFFB5kzGXf",
        "outputId": "6e5b3460-333d-481e-8ee1-7516c5b8a7b4"
      },
      "outputs": [
        {
          "name": "stdout",
          "output_type": "stream",
          "text": [
            "\u001b[?25l\r\u001b[K     |▌                               | 10 kB 27.2 MB/s eta 0:00:01\r\u001b[K     |█                               | 20 kB 34.2 MB/s eta 0:00:01\r\u001b[K     |█▋                              | 30 kB 17.1 MB/s eta 0:00:01\r\u001b[K     |██▏                             | 40 kB 7.9 MB/s eta 0:00:01\r\u001b[K     |██▊                             | 51 kB 7.7 MB/s eta 0:00:01\r\u001b[K     |███▎                            | 61 kB 9.0 MB/s eta 0:00:01\r\u001b[K     |███▉                            | 71 kB 9.9 MB/s eta 0:00:01\r\u001b[K     |████▍                           | 81 kB 9.3 MB/s eta 0:00:01\r\u001b[K     |█████                           | 92 kB 10.2 MB/s eta 0:00:01\r\u001b[K     |█████▌                          | 102 kB 8.6 MB/s eta 0:00:01\r\u001b[K     |██████                          | 112 kB 8.6 MB/s eta 0:00:01\r\u001b[K     |██████▋                         | 122 kB 8.6 MB/s eta 0:00:01\r\u001b[K     |███████▏                        | 133 kB 8.6 MB/s eta 0:00:01\r\u001b[K     |███████▊                        | 143 kB 8.6 MB/s eta 0:00:01\r\u001b[K     |████████▎                       | 153 kB 8.6 MB/s eta 0:00:01\r\u001b[K     |████████▉                       | 163 kB 8.6 MB/s eta 0:00:01\r\u001b[K     |█████████▍                      | 174 kB 8.6 MB/s eta 0:00:01\r\u001b[K     |██████████                      | 184 kB 8.6 MB/s eta 0:00:01\r\u001b[K     |██████████▍                     | 194 kB 8.6 MB/s eta 0:00:01\r\u001b[K     |███████████                     | 204 kB 8.6 MB/s eta 0:00:01\r\u001b[K     |███████████▌                    | 215 kB 8.6 MB/s eta 0:00:01\r\u001b[K     |████████████                    | 225 kB 8.6 MB/s eta 0:00:01\r\u001b[K     |████████████▋                   | 235 kB 8.6 MB/s eta 0:00:01\r\u001b[K     |█████████████▏                  | 245 kB 8.6 MB/s eta 0:00:01\r\u001b[K     |█████████████▊                  | 256 kB 8.6 MB/s eta 0:00:01\r\u001b[K     |██████████████▎                 | 266 kB 8.6 MB/s eta 0:00:01\r\u001b[K     |██████████████▉                 | 276 kB 8.6 MB/s eta 0:00:01\r\u001b[K     |███████████████▍                | 286 kB 8.6 MB/s eta 0:00:01\r\u001b[K     |████████████████                | 296 kB 8.6 MB/s eta 0:00:01\r\u001b[K     |████████████████▌               | 307 kB 8.6 MB/s eta 0:00:01\r\u001b[K     |█████████████████               | 317 kB 8.6 MB/s eta 0:00:01\r\u001b[K     |█████████████████▋              | 327 kB 8.6 MB/s eta 0:00:01\r\u001b[K     |██████████████████▏             | 337 kB 8.6 MB/s eta 0:00:01\r\u001b[K     |██████████████████▊             | 348 kB 8.6 MB/s eta 0:00:01\r\u001b[K     |███████████████████▎            | 358 kB 8.6 MB/s eta 0:00:01\r\u001b[K     |███████████████████▉            | 368 kB 8.6 MB/s eta 0:00:01\r\u001b[K     |████████████████████▍           | 378 kB 8.6 MB/s eta 0:00:01\r\u001b[K     |████████████████████▉           | 389 kB 8.6 MB/s eta 0:00:01\r\u001b[K     |█████████████████████▍          | 399 kB 8.6 MB/s eta 0:00:01\r\u001b[K     |██████████████████████          | 409 kB 8.6 MB/s eta 0:00:01\r\u001b[K     |██████████████████████▌         | 419 kB 8.6 MB/s eta 0:00:01\r\u001b[K     |███████████████████████         | 430 kB 8.6 MB/s eta 0:00:01\r\u001b[K     |███████████████████████▋        | 440 kB 8.6 MB/s eta 0:00:01\r\u001b[K     |████████████████████████▏       | 450 kB 8.6 MB/s eta 0:00:01\r\u001b[K     |████████████████████████▊       | 460 kB 8.6 MB/s eta 0:00:01\r\u001b[K     |█████████████████████████▎      | 471 kB 8.6 MB/s eta 0:00:01\r\u001b[K     |█████████████████████████▉      | 481 kB 8.6 MB/s eta 0:00:01\r\u001b[K     |██████████████████████████▍     | 491 kB 8.6 MB/s eta 0:00:01\r\u001b[K     |███████████████████████████     | 501 kB 8.6 MB/s eta 0:00:01\r\u001b[K     |███████████████████████████▌    | 512 kB 8.6 MB/s eta 0:00:01\r\u001b[K     |████████████████████████████    | 522 kB 8.6 MB/s eta 0:00:01\r\u001b[K     |████████████████████████████▋   | 532 kB 8.6 MB/s eta 0:00:01\r\u001b[K     |█████████████████████████████▏  | 542 kB 8.6 MB/s eta 0:00:01\r\u001b[K     |█████████████████████████████▊  | 552 kB 8.6 MB/s eta 0:00:01\r\u001b[K     |██████████████████████████████▎ | 563 kB 8.6 MB/s eta 0:00:01\r\u001b[K     |██████████████████████████████▊ | 573 kB 8.6 MB/s eta 0:00:01\r\u001b[K     |███████████████████████████████▎| 583 kB 8.6 MB/s eta 0:00:01\r\u001b[K     |███████████████████████████████▉| 593 kB 8.6 MB/s eta 0:00:01\r\u001b[K     |████████████████████████████████| 596 kB 8.6 MB/s \n",
            "\u001b[?25h"
          ]
        }
      ],
      "source": [
        "pip install -qr requirements.txt # install dependencies"
      ]
    },
    {
      "cell_type": "code",
      "execution_count": null,
      "metadata": {
        "colab": {
          "background_save": true,
          "base_uri": "https://localhost:8080/"
        },
        "id": "iIxB27tNzUU6",
        "outputId": "8eff7b45-127c-4642-b2cf-6adfafccb655"
      },
      "outputs": [
        {
          "name": "stdout",
          "output_type": "stream",
          "text": [
            "\u001b[34m\u001b[1mtrain: \u001b[0mweights=yolov5s.pt, cfg=, data=/content/gdrive/MyDrive/AirCanvasDataset/data.yaml, hyp=data/hyps/hyp.scratch-low.yaml, epochs=150, batch_size=8, imgsz=416, rect=False, resume=False, nosave=False, noval=False, noautoanchor=False, noplots=False, evolve=None, bucket=, cache=ram, image_weights=False, device=, multi_scale=False, single_cls=False, optimizer=SGD, sync_bn=False, workers=8, project=runs/train, name=exp, exist_ok=False, quad=False, cos_lr=False, label_smoothing=0.0, patience=100, freeze=[0], save_period=-1, seed=0, local_rank=-1, entity=None, upload_dataset=False, bbox_interval=-1, artifact_alias=latest\n",
            "\u001b[34m\u001b[1mgithub: \u001b[0mup to date with https://github.com/ultralytics/yolov5 ✅\n",
            "YOLOv5 🚀 v6.1-386-g2e57b84 Python-3.7.13 torch-1.12.1+cu113 CPU\n",
            "\n",
            "\u001b[34m\u001b[1mhyperparameters: \u001b[0mlr0=0.01, lrf=0.01, momentum=0.937, weight_decay=0.0005, warmup_epochs=3.0, warmup_momentum=0.8, warmup_bias_lr=0.1, box=0.05, cls=0.5, cls_pw=1.0, obj=1.0, obj_pw=1.0, iou_t=0.2, anchor_t=4.0, fl_gamma=0.0, hsv_h=0.015, hsv_s=0.7, hsv_v=0.4, degrees=0.0, translate=0.1, scale=0.5, shear=0.0, perspective=0.0, flipud=0.0, fliplr=0.5, mosaic=1.0, mixup=0.0, copy_paste=0.0\n",
            "\u001b[34m\u001b[1mWeights & Biases: \u001b[0mrun 'pip install wandb' to automatically track and visualize YOLOv5 🚀 runs in Weights & Biases\n",
            "\u001b[34m\u001b[1mClearML: \u001b[0mrun 'pip install clearml' to automatically track, visualize and remotely train YOLOv5 🚀 runs in ClearML\n",
            "\u001b[34m\u001b[1mTensorBoard: \u001b[0mStart with 'tensorboard --logdir runs/train', view at http://localhost:6006/\n",
            "Downloading https://ultralytics.com/assets/Arial.ttf to /root/.config/Ultralytics/Arial.ttf...\n",
            "100% 755k/755k [00:00<00:00, 13.2MB/s]\n",
            "Downloading https://github.com/ultralytics/yolov5/releases/download/v6.1/yolov5s.pt to yolov5s.pt...\n",
            "100% 14.1M/14.1M [00:00<00:00, 66.9MB/s]\n",
            "\n",
            "Overriding model.yaml nc=80 with nc=5\n",
            "\n",
            "                 from  n    params  module                                  arguments                     \n",
            "  0                -1  1      3520  models.common.Conv                      [3, 32, 6, 2, 2]              \n",
            "  1                -1  1     18560  models.common.Conv                      [32, 64, 3, 2]                \n",
            "  2                -1  1     18816  models.common.C3                        [64, 64, 1]                   \n",
            "  3                -1  1     73984  models.common.Conv                      [64, 128, 3, 2]               \n",
            "  4                -1  2    115712  models.common.C3                        [128, 128, 2]                 \n",
            "  5                -1  1    295424  models.common.Conv                      [128, 256, 3, 2]              \n",
            "  6                -1  3    625152  models.common.C3                        [256, 256, 3]                 \n",
            "  7                -1  1   1180672  models.common.Conv                      [256, 512, 3, 2]              \n",
            "  8                -1  1   1182720  models.common.C3                        [512, 512, 1]                 \n",
            "  9                -1  1    656896  models.common.SPPF                      [512, 512, 5]                 \n",
            " 10                -1  1    131584  models.common.Conv                      [512, 256, 1, 1]              \n",
            " 11                -1  1         0  torch.nn.modules.upsampling.Upsample    [None, 2, 'nearest']          \n",
            " 12           [-1, 6]  1         0  models.common.Concat                    [1]                           \n",
            " 13                -1  1    361984  models.common.C3                        [512, 256, 1, False]          \n",
            " 14                -1  1     33024  models.common.Conv                      [256, 128, 1, 1]              \n",
            " 15                -1  1         0  torch.nn.modules.upsampling.Upsample    [None, 2, 'nearest']          \n",
            " 16           [-1, 4]  1         0  models.common.Concat                    [1]                           \n",
            " 17                -1  1     90880  models.common.C3                        [256, 128, 1, False]          \n",
            " 18                -1  1    147712  models.common.Conv                      [128, 128, 3, 2]              \n",
            " 19          [-1, 14]  1         0  models.common.Concat                    [1]                           \n",
            " 20                -1  1    296448  models.common.C3                        [256, 256, 1, False]          \n",
            " 21                -1  1    590336  models.common.Conv                      [256, 256, 3, 2]              \n",
            " 22          [-1, 10]  1         0  models.common.Concat                    [1]                           \n",
            " 23                -1  1   1182720  models.common.C3                        [512, 512, 1, False]          \n",
            " 24      [17, 20, 23]  1     26970  models.yolo.Detect                      [5, [[10, 13, 16, 30, 33, 23], [30, 61, 62, 45, 59, 119], [116, 90, 156, 198, 373, 326]], [128, 256, 512]]\n",
            "Model summary: 270 layers, 7033114 parameters, 7033114 gradients, 16.0 GFLOPs\n",
            "\n",
            "Transferred 343/349 items from yolov5s.pt\n",
            "\u001b[34m\u001b[1moptimizer:\u001b[0m SGD(lr=0.01) with parameter groups 57 weight(decay=0.0), 60 weight(decay=0.0005), 60 bias\n",
            "\u001b[34m\u001b[1malbumentations: \u001b[0mBlur(always_apply=False, p=0.01, blur_limit=(3, 7)), MedianBlur(always_apply=False, p=0.01, blur_limit=(3, 7)), ToGray(always_apply=False, p=0.01), CLAHE(always_apply=False, p=0.01, clip_limit=(1, 4.0), tile_grid_size=(8, 8))\n",
            "\u001b[34m\u001b[1mtrain: \u001b[0mScanning '/content/gdrive/MyDrive/AirCanvasDataset/train/labels' images and labels...594 found, 0 missing, 0 empty, 0 corrupt: 100% 594/594 [02:11<00:00,  4.52it/s]\n",
            "\u001b[34m\u001b[1mtrain: \u001b[0mNew cache created: /content/gdrive/MyDrive/AirCanvasDataset/train/labels.cache\n",
            "\u001b[34m\u001b[1mtrain: \u001b[0mCaching images (0.3GB ram): 100% 594/594 [00:02<00:00, 206.20it/s]\n",
            "\u001b[34m\u001b[1mval: \u001b[0mScanning '/content/gdrive/MyDrive/AirCanvasDataset/valid/labels' images and labels...148 found, 0 missing, 0 empty, 0 corrupt: 100% 148/148 [00:31<00:00,  4.73it/s]\n",
            "\u001b[34m\u001b[1mval: \u001b[0mNew cache created: /content/gdrive/MyDrive/AirCanvasDataset/valid/labels.cache\n",
            "\u001b[34m\u001b[1mval: \u001b[0mCaching images (0.1GB ram): 100% 148/148 [00:00<00:00, 207.68it/s]\n",
            "Plotting labels to runs/train/exp3/labels.jpg... \n",
            "\n",
            "\u001b[34m\u001b[1mAutoAnchor: \u001b[0m5.20 anchors/target, 0.999 Best Possible Recall (BPR). Current anchors are a good fit to dataset ✅\n",
            "Image sizes 416 train, 416 val\n",
            "Using 2 dataloader workers\n",
            "Logging results to \u001b[1mruns/train/exp3\u001b[0m\n",
            "Starting training for 150 epochs...\n",
            "\n",
            "     Epoch   gpu_mem       box       obj       cls    labels  img_size\n",
            "     0/149        0G    0.1055   0.02475   0.05071         3       416: 100% 75/75 [05:45<00:00,  4.61s/it]\n",
            "               Class     Images     Labels          P          R     mAP@.5 mAP@.5:.95:  20% 2/10 [00:08<00:32,  4.06s/it]WARNING: NMS time limit 0.780s exceeded\n",
            "               Class     Images     Labels          P          R     mAP@.5 mAP@.5:.95:  30% 3/10 [00:12<00:28,  4.11s/it]WARNING: NMS time limit 0.780s exceeded\n",
            "               Class     Images     Labels          P          R     mAP@.5 mAP@.5:.95: 100% 10/10 [00:37<00:00,  3.77s/it]\n",
            "                 all        148        148    0.00209      0.808     0.0111     0.0034\n",
            "\n",
            "     Epoch   gpu_mem       box       obj       cls    labels  img_size\n",
            "     1/149        0G   0.08036   0.02775   0.04516         4       416: 100% 75/75 [05:37<00:00,  4.50s/it]\n",
            "               Class     Images     Labels          P          R     mAP@.5 mAP@.5:.95: 100% 10/10 [00:33<00:00,  3.34s/it]\n",
            "                 all        148        148      0.324      0.156     0.0595     0.0182\n",
            "\n",
            "     Epoch   gpu_mem       box       obj       cls    labels  img_size\n",
            "     2/149        0G   0.07306    0.0261    0.0402        13       416: 100% 75/75 [05:34<00:00,  4.46s/it]\n",
            "               Class     Images     Labels          P          R     mAP@.5 mAP@.5:.95: 100% 10/10 [00:31<00:00,  3.12s/it]\n",
            "                 all        148        148      0.776      0.145      0.162     0.0405\n",
            "\n",
            "     Epoch   gpu_mem       box       obj       cls    labels  img_size\n",
            "     3/149        0G   0.06885   0.02265   0.03648         3       416: 100% 75/75 [05:37<00:00,  4.49s/it]\n",
            "               Class     Images     Labels          P          R     mAP@.5 mAP@.5:.95: 100% 10/10 [00:31<00:00,  3.12s/it]\n",
            "                 all        148        148      0.694      0.229      0.229       0.11\n",
            "\n",
            "     Epoch   gpu_mem       box       obj       cls    labels  img_size\n",
            "     4/149        0G   0.06309   0.02235   0.03208         1       416: 100% 75/75 [05:41<00:00,  4.55s/it]\n",
            "               Class     Images     Labels          P          R     mAP@.5 mAP@.5:.95: 100% 10/10 [00:30<00:00,  3.09s/it]\n",
            "                 all        148        148      0.708      0.226      0.254      0.126\n",
            "\n",
            "     Epoch   gpu_mem       box       obj       cls    labels  img_size\n",
            "     5/149        0G   0.05968   0.02166   0.03109         7       416: 100% 75/75 [05:44<00:00,  4.59s/it]\n",
            "               Class     Images     Labels          P          R     mAP@.5 mAP@.5:.95: 100% 10/10 [00:30<00:00,  3.09s/it]\n",
            "                 all        148        148      0.656      0.389      0.314      0.134\n",
            "\n",
            "     Epoch   gpu_mem       box       obj       cls    labels  img_size\n",
            "     6/149        0G   0.05815   0.02116    0.0279         2       416: 100% 75/75 [05:42<00:00,  4.57s/it]\n",
            "               Class     Images     Labels          P          R     mAP@.5 mAP@.5:.95: 100% 10/10 [00:30<00:00,  3.07s/it]\n",
            "                 all        148        148      0.841      0.259      0.402      0.185\n",
            "\n",
            "     Epoch   gpu_mem       box       obj       cls    labels  img_size\n",
            "     7/149        0G    0.0546   0.02143   0.02541         9       416: 100% 75/75 [05:41<00:00,  4.55s/it]\n",
            "               Class     Images     Labels          P          R     mAP@.5 mAP@.5:.95: 100% 10/10 [00:31<00:00,  3.10s/it]\n",
            "                 all        148        148      0.629      0.338      0.451      0.231\n",
            "\n",
            "     Epoch   gpu_mem       box       obj       cls    labels  img_size\n",
            "     8/149        0G   0.05449   0.02074   0.02345        13       416: 100% 75/75 [05:42<00:00,  4.57s/it]\n",
            "               Class     Images     Labels          P          R     mAP@.5 mAP@.5:.95: 100% 10/10 [00:30<00:00,  3.09s/it]\n",
            "                 all        148        148      0.661      0.426      0.548      0.289\n",
            "\n",
            "     Epoch   gpu_mem       box       obj       cls    labels  img_size\n",
            "     9/149        0G   0.05274   0.02014   0.02389        13       416: 100% 75/75 [05:42<00:00,  4.57s/it]\n",
            "               Class     Images     Labels          P          R     mAP@.5 mAP@.5:.95: 100% 10/10 [00:31<00:00,  3.19s/it]\n",
            "                 all        148        148      0.354      0.416      0.325      0.168\n",
            "\n",
            "     Epoch   gpu_mem       box       obj       cls    labels  img_size\n",
            "    10/149        0G   0.05141   0.02011   0.02045         6       416: 100% 75/75 [05:40<00:00,  4.54s/it]\n",
            "               Class     Images     Labels          P          R     mAP@.5 mAP@.5:.95: 100% 10/10 [00:32<00:00,  3.24s/it]\n",
            "                 all        148        148      0.547      0.494       0.53      0.246\n",
            "\n",
            "     Epoch   gpu_mem       box       obj       cls    labels  img_size\n",
            "    11/149        0G   0.05171   0.02015   0.01923        13       416: 100% 75/75 [05:40<00:00,  4.54s/it]\n",
            "               Class     Images     Labels          P          R     mAP@.5 mAP@.5:.95: 100% 10/10 [00:32<00:00,  3.24s/it]\n",
            "                 all        148        148      0.504      0.331      0.351      0.148\n",
            "\n",
            "     Epoch   gpu_mem       box       obj       cls    labels  img_size\n",
            "    12/149        0G   0.05177   0.01921   0.02033         7       416: 100% 75/75 [05:44<00:00,  4.59s/it]\n",
            "               Class     Images     Labels          P          R     mAP@.5 mAP@.5:.95: 100% 10/10 [00:30<00:00,  3.07s/it]\n",
            "                 all        148        148      0.614      0.276      0.338      0.158\n",
            "\n",
            "     Epoch   gpu_mem       box       obj       cls    labels  img_size\n",
            "    13/149        0G   0.04988   0.02031   0.01838         2       416: 100% 75/75 [05:45<00:00,  4.61s/it]\n",
            "               Class     Images     Labels          P          R     mAP@.5 mAP@.5:.95: 100% 10/10 [00:31<00:00,  3.10s/it]\n",
            "                 all        148        148      0.614      0.343      0.411      0.202\n",
            "\n",
            "     Epoch   gpu_mem       box       obj       cls    labels  img_size\n",
            "    14/149        0G   0.04961    0.0185   0.01751         3       416: 100% 75/75 [05:42<00:00,  4.56s/it]\n",
            "               Class     Images     Labels          P          R     mAP@.5 mAP@.5:.95: 100% 10/10 [00:32<00:00,  3.24s/it]\n",
            "                 all        148        148      0.482      0.497      0.518      0.268\n",
            "\n",
            "     Epoch   gpu_mem       box       obj       cls    labels  img_size\n",
            "    15/149        0G   0.04814   0.01955   0.01671         7       416: 100% 75/75 [05:37<00:00,  4.50s/it]\n",
            "               Class     Images     Labels          P          R     mAP@.5 mAP@.5:.95: 100% 10/10 [00:32<00:00,  3.20s/it]\n",
            "                 all        148        148      0.528       0.48      0.456      0.235\n",
            "\n",
            "     Epoch   gpu_mem       box       obj       cls    labels  img_size\n",
            "    16/149        0G   0.04888   0.01883   0.01754         6       416: 100% 75/75 [05:38<00:00,  4.52s/it]\n",
            "               Class     Images     Labels          P          R     mAP@.5 mAP@.5:.95: 100% 10/10 [00:30<00:00,  3.05s/it]\n",
            "                 all        148        148      0.605      0.522      0.552      0.302\n",
            "\n",
            "     Epoch   gpu_mem       box       obj       cls    labels  img_size\n",
            "    17/149        0G   0.04942   0.01932   0.01585         7       416: 100% 75/75 [05:41<00:00,  4.55s/it]\n",
            "               Class     Images     Labels          P          R     mAP@.5 mAP@.5:.95: 100% 10/10 [00:30<00:00,  3.08s/it]\n",
            "                 all        148        148      0.631      0.456      0.541      0.264\n",
            "\n",
            "     Epoch   gpu_mem       box       obj       cls    labels  img_size\n",
            "    18/149        0G   0.04847    0.0191    0.0155        16       416: 100% 75/75 [05:43<00:00,  4.57s/it]\n",
            "               Class     Images     Labels          P          R     mAP@.5 mAP@.5:.95: 100% 10/10 [00:31<00:00,  3.20s/it]\n",
            "                 all        148        148      0.563      0.445       0.48      0.269\n",
            "\n",
            "     Epoch   gpu_mem       box       obj       cls    labels  img_size\n",
            "    19/149        0G    0.0467   0.01822    0.0149         4       416: 100% 75/75 [05:42<00:00,  4.57s/it]\n",
            "               Class     Images     Labels          P          R     mAP@.5 mAP@.5:.95: 100% 10/10 [00:30<00:00,  3.07s/it]\n",
            "                 all        148        148       0.72      0.562      0.628      0.307\n",
            "\n",
            "     Epoch   gpu_mem       box       obj       cls    labels  img_size\n",
            "    20/149        0G   0.04849   0.01862   0.01629         6       416: 100% 75/75 [05:41<00:00,  4.55s/it]\n",
            "               Class     Images     Labels          P          R     mAP@.5 mAP@.5:.95: 100% 10/10 [00:31<00:00,  3.18s/it]\n",
            "                 all        148        148      0.621      0.538      0.587      0.316\n",
            "\n",
            "     Epoch   gpu_mem       box       obj       cls    labels  img_size\n",
            "    21/149        0G   0.04631   0.01835   0.01352         1       416: 100% 75/75 [05:39<00:00,  4.53s/it]\n",
            "               Class     Images     Labels          P          R     mAP@.5 mAP@.5:.95: 100% 10/10 [00:30<00:00,  3.08s/it]\n",
            "                 all        148        148      0.673      0.649       0.61      0.356\n",
            "\n",
            "     Epoch   gpu_mem       box       obj       cls    labels  img_size\n",
            "    22/149        0G   0.04587   0.01922   0.01377         3       416: 100% 75/75 [05:46<00:00,  4.62s/it]\n",
            "               Class     Images     Labels          P          R     mAP@.5 mAP@.5:.95: 100% 10/10 [00:31<00:00,  3.20s/it]\n",
            "                 all        148        148      0.624      0.632      0.589      0.319\n",
            "\n",
            "     Epoch   gpu_mem       box       obj       cls    labels  img_size\n",
            "    23/149        0G   0.04675   0.01879   0.01348         4       416: 100% 75/75 [05:43<00:00,  4.59s/it]\n",
            "               Class     Images     Labels          P          R     mAP@.5 mAP@.5:.95: 100% 10/10 [00:30<00:00,  3.07s/it]\n",
            "                 all        148        148      0.401      0.372      0.302      0.138\n",
            "\n",
            "     Epoch   gpu_mem       box       obj       cls    labels  img_size\n",
            "    24/149        0G   0.04557   0.01968   0.01316         3       416: 100% 75/75 [05:44<00:00,  4.59s/it]\n",
            "               Class     Images     Labels          P          R     mAP@.5 mAP@.5:.95: 100% 10/10 [00:31<00:00,  3.19s/it]\n",
            "                 all        148        148      0.799       0.46      0.506      0.261\n",
            "\n",
            "     Epoch   gpu_mem       box       obj       cls    labels  img_size\n",
            "    25/149        0G   0.04635   0.01884   0.01254        11       416: 100% 75/75 [05:43<00:00,  4.58s/it]\n",
            "               Class     Images     Labels          P          R     mAP@.5 mAP@.5:.95: 100% 10/10 [00:30<00:00,  3.07s/it]\n",
            "                 all        148        148      0.566      0.468      0.447      0.237\n",
            "\n",
            "     Epoch   gpu_mem       box       obj       cls    labels  img_size\n",
            "    26/149        0G   0.04492   0.01771   0.01208         4       416: 100% 75/75 [05:42<00:00,  4.57s/it]\n",
            "               Class     Images     Labels          P          R     mAP@.5 mAP@.5:.95: 100% 10/10 [00:30<00:00,  3.09s/it]\n",
            "                 all        148        148      0.575      0.614      0.575      0.302\n",
            "\n",
            "     Epoch   gpu_mem       box       obj       cls    labels  img_size\n",
            "    27/149        0G   0.04545    0.0191   0.01348         8       416: 100% 75/75 [05:43<00:00,  4.58s/it]\n",
            "               Class     Images     Labels          P          R     mAP@.5 mAP@.5:.95: 100% 10/10 [00:30<00:00,  3.08s/it]\n",
            "                 all        148        148      0.643      0.579      0.588        0.3\n",
            "\n",
            "     Epoch   gpu_mem       box       obj       cls    labels  img_size\n",
            "    28/149        0G    0.0459   0.01923   0.01262        17       416: 100% 75/75 [05:44<00:00,  4.59s/it]\n",
            "               Class     Images     Labels          P          R     mAP@.5 mAP@.5:.95: 100% 10/10 [00:31<00:00,  3.20s/it]\n",
            "                 all        148        148      0.611      0.643      0.634      0.348\n",
            "\n",
            "     Epoch   gpu_mem       box       obj       cls    labels  img_size\n",
            "    29/149        0G    0.0452     0.018   0.01267         3       416: 100% 75/75 [05:43<00:00,  4.59s/it]\n",
            "               Class     Images     Labels          P          R     mAP@.5 mAP@.5:.95: 100% 10/10 [00:30<00:00,  3.08s/it]\n",
            "                 all        148        148      0.667      0.685      0.676      0.363\n",
            "\n",
            "     Epoch   gpu_mem       box       obj       cls    labels  img_size\n",
            "    30/149        0G   0.04395   0.01942   0.01092         8       416: 100% 75/75 [05:47<00:00,  4.64s/it]\n",
            "               Class     Images     Labels          P          R     mAP@.5 mAP@.5:.95: 100% 10/10 [00:31<00:00,  3.19s/it]\n",
            "                 all        148        148      0.571       0.47      0.466      0.257\n",
            "\n",
            "     Epoch   gpu_mem       box       obj       cls    labels  img_size\n",
            "    31/149        0G   0.04303   0.01747   0.01109         7       416: 100% 75/75 [05:44<00:00,  4.59s/it]\n",
            "               Class     Images     Labels          P          R     mAP@.5 mAP@.5:.95: 100% 10/10 [00:30<00:00,  3.08s/it]\n",
            "                 all        148        148      0.683      0.503       0.54       0.29\n",
            "\n",
            "     Epoch   gpu_mem       box       obj       cls    labels  img_size\n",
            "    32/149        0G   0.04411   0.01781   0.01079         3       416: 100% 75/75 [05:46<00:00,  4.62s/it]\n",
            "               Class     Images     Labels          P          R     mAP@.5 mAP@.5:.95: 100% 10/10 [00:30<00:00,  3.08s/it]\n",
            "                 all        148        148      0.521      0.592      0.532      0.278\n",
            "\n",
            "     Epoch   gpu_mem       box       obj       cls    labels  img_size\n",
            "    33/149        0G   0.04419   0.01838  0.009939         7       416: 100% 75/75 [05:47<00:00,  4.63s/it]\n",
            "               Class     Images     Labels          P          R     mAP@.5 mAP@.5:.95: 100% 10/10 [00:32<00:00,  3.20s/it]\n",
            "                 all        148        148       0.72      0.687      0.702      0.388\n",
            "\n",
            "     Epoch   gpu_mem       box       obj       cls    labels  img_size\n",
            "    34/149        0G   0.04187   0.01694   0.01071         2       416: 100% 75/75 [05:44<00:00,  4.59s/it]\n",
            "               Class     Images     Labels          P          R     mAP@.5 mAP@.5:.95: 100% 10/10 [00:31<00:00,  3.12s/it]\n",
            "                 all        148        148       0.64      0.686      0.645      0.355\n",
            "\n",
            "     Epoch   gpu_mem       box       obj       cls    labels  img_size\n",
            "    35/149        0G   0.04143   0.01751    0.0103        10       416: 100% 75/75 [05:45<00:00,  4.61s/it]\n",
            "               Class     Images     Labels          P          R     mAP@.5 mAP@.5:.95: 100% 10/10 [00:32<00:00,  3.23s/it]\n",
            "                 all        148        148      0.749       0.53      0.635      0.322\n",
            "\n",
            "     Epoch   gpu_mem       box       obj       cls    labels  img_size\n",
            "    36/149        0G   0.04176   0.01785  0.009127         2       416: 100% 75/75 [05:44<00:00,  4.59s/it]\n",
            "               Class     Images     Labels          P          R     mAP@.5 mAP@.5:.95: 100% 10/10 [00:30<00:00,  3.07s/it]\n",
            "                 all        148        148      0.747      0.672        0.7       0.37\n",
            "\n",
            "     Epoch   gpu_mem       box       obj       cls    labels  img_size\n",
            "    37/149        0G   0.04241   0.01727  0.009002         9       416: 100% 75/75 [05:46<00:00,  4.62s/it]\n",
            "               Class     Images     Labels          P          R     mAP@.5 mAP@.5:.95: 100% 10/10 [00:30<00:00,  3.09s/it]\n",
            "                 all        148        148      0.693      0.584      0.637      0.346\n",
            "\n",
            "     Epoch   gpu_mem       box       obj       cls    labels  img_size\n",
            "    38/149        0G   0.04196   0.01786   0.01006         6       416: 100% 75/75 [05:42<00:00,  4.56s/it]\n",
            "               Class     Images     Labels          P          R     mAP@.5 mAP@.5:.95: 100% 10/10 [00:32<00:00,  3.21s/it]\n",
            "                 all        148        148      0.626      0.454      0.543      0.283\n",
            "\n",
            "     Epoch   gpu_mem       box       obj       cls    labels  img_size\n",
            "    39/149        0G   0.04213   0.01669   0.01116        10       416: 100% 75/75 [05:44<00:00,  4.59s/it]\n",
            "               Class     Images     Labels          P          R     mAP@.5 mAP@.5:.95: 100% 10/10 [00:30<00:00,  3.07s/it]\n",
            "                 all        148        148      0.692      0.477      0.573      0.286\n",
            "\n",
            "     Epoch   gpu_mem       box       obj       cls    labels  img_size\n",
            "    40/149        0G    0.0413   0.01751  0.009137         7       416: 100% 75/75 [05:44<00:00,  4.59s/it]\n",
            "               Class     Images     Labels          P          R     mAP@.5 mAP@.5:.95: 100% 10/10 [00:31<00:00,  3.16s/it]\n",
            "                 all        148        148      0.765      0.532      0.566      0.319\n",
            "\n",
            "     Epoch   gpu_mem       box       obj       cls    labels  img_size\n",
            "    41/149        0G   0.04153     0.017  0.009778         3       416: 100% 75/75 [05:41<00:00,  4.55s/it]\n",
            "               Class     Images     Labels          P          R     mAP@.5 mAP@.5:.95: 100% 10/10 [00:30<00:00,  3.07s/it]\n",
            "                 all        148        148      0.704      0.521      0.612      0.348\n",
            "\n",
            "     Epoch   gpu_mem       box       obj       cls    labels  img_size\n",
            "    42/149        0G   0.04162   0.01808  0.009256        23       416:  79% 59/75 [04:35<01:13,  4.58s/it]"
          ]
        }
      ],
      "source": [
        "!python train.py --img 416 --batch 8 --epochs 150 --data /content/gdrive/MyDrive/AirCanvasDataset/data.yaml --weights yolov5s.pt --cache"
      ]
    },
    {
      "cell_type": "markdown",
      "metadata": {
        "id": "u1d-3ejG1VIL"
      },
      "source": []
    },
    {
      "cell_type": "code",
      "execution_count": null,
      "metadata": {
        "colab": {
          "base_uri": "https://localhost:8080/"
        },
        "id": "L47QKKDOwksi",
        "outputId": "fedcf950-579a-4562-c04f-b09f5abef244"
      },
      "outputs": [
        {
          "name": "stdout",
          "output_type": "stream",
          "text": [
            "/content\n"
          ]
        }
      ],
      "source": [
        "!pwd"
      ]
    },
    {
      "cell_type": "code",
      "execution_count": null,
      "metadata": {
        "colab": {
          "base_uri": "https://localhost:8080/"
        },
        "id": "kw-QwqZYwmqC",
        "outputId": "1eb4e2ef-b21a-4a6f-d4f4-7fec56cd0b48"
      },
      "outputs": [
        {
          "name": "stdout",
          "output_type": "stream",
          "text": [
            "CONTRIBUTING.md  hubconf.py   README.md\t\ttrain.py\tyolov5s.pt\n",
            "data\t\t LICENSE      requirements.txt\ttutorial.ipynb\n",
            "detect.py\t models       runs\t\tutils\n",
            "export.py\t __pycache__  setup.cfg\t\tval.py\n"
          ]
        }
      ],
      "source": [
        "!ls"
      ]
    }
  ],
  "metadata": {
    "accelerator": "GPU",
    "colab": {
      "collapsed_sections": [],
      "provenance": []
    },
    "gpuClass": "standard",
    "kernelspec": {
      "display_name": "Python 3",
      "name": "python3"
    },
    "language_info": {
      "name": "python"
    }
  },
  "nbformat": 4,
  "nbformat_minor": 0
}